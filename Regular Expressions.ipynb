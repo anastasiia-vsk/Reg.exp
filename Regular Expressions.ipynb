{
 "cells": [
  {
   "cell_type": "markdown",
   "id": "804b3244",
   "metadata": {},
   "source": [
    "Регулярний вираз — це рядок, який визначає шаблон пошуку підрядків у тексті. Одному шаблону може відповідати багато різних рядків. Термін \"Регулярні вирази\" є перекладом англійського словосполучення \"Regular expressions\". Переклад не дуже точно відображає зміст, правильніше було б «шаблонні вирази». Регулярний вираз, або коротко «регулярка», складається із звичайних символів та спеціальних командних послідовностей. Наприклад, \\d задає будь-яку цифру, а \\d+ - задає будь-яку послідовність з однієї чи більше цифр. Робота з регулярками реалізована у всіх сучасних мовах програмування. Однак існує кілька «діалектів», тому функціонал регулярних виразів може відрізнятись від мови до мови. У деяких мовах програмування регулярками користуватися дуже зручно (наприклад, у Python), у деяких — не надто (наприклад, C++)."
   ]
  },
  {
   "cell_type": "code",
   "execution_count": 2,
   "id": "6290e7bc",
   "metadata": {},
   "outputs": [],
   "source": [
    "import re"
   ]
  },
  {
   "cell_type": "markdown",
   "id": "804bfd09",
   "metadata": {},
   "source": [
    "<h3>Засоби роботи з регулярками у Python</h3>"
   ]
  },
  {
   "cell_type": "markdown",
   "id": "ad6a3d74",
   "metadata": {},
   "source": [
    "<b>re.search(pattern, string)</b> - пошук у рядку string першого підрядку(подстроки), який відповідає шаблону pattern."
   ]
  },
  {
   "cell_type": "code",
   "execution_count": 2,
   "id": "82ef47c7",
   "metadata": {},
   "outputs": [
    {
     "name": "stdout",
     "output_type": "stream",
     "text": [
      "23-1\n"
     ]
    }
   ],
   "source": [
    "match = re.search(r'\\d\\d\\D\\d', r'Телефон 123-12-12')\n",
    "print(match[0] if match else 'Not found')"
   ]
  },
  {
   "cell_type": "markdown",
   "id": "60e8a3d6",
   "metadata": {},
   "source": [
    "<b>re.fullmatch(pattern, string)</b> - перевірити, чи підходить рядок string під шаблон pattern."
   ]
  },
  {
   "cell_type": "code",
   "execution_count": 3,
   "id": "6884e9f7",
   "metadata": {},
   "outputs": [
    {
     "name": "stdout",
     "output_type": "stream",
     "text": [
      "YES\n"
     ]
    }
   ],
   "source": [
    "match = re.fullmatch(r'\\d\\d\\D\\d\\d', r'12-12') \n",
    "print('YES' if match else 'NO') "
   ]
  },
  {
   "cell_type": "markdown",
   "id": "f3e37a8c",
   "metadata": {},
   "source": [
    "<b>re.split(pattern, string, maxsplit=0)</b> - аналог str.split(), тільки розрізання виконується по рядкам, що підходять під шаблон pattern"
   ]
  },
  {
   "cell_type": "code",
   "execution_count": 4,
   "id": "29c3701f",
   "metadata": {},
   "outputs": [
    {
     "name": "stdout",
     "output_type": "stream",
     "text": [
      "['Де', 'скажіть', 'мені', 'ключі', 'від', 'моєї', 'Тесли', '']\n"
     ]
    }
   ],
   "source": [
    "print(re.split(r'\\W+', 'Де, скажіть мені, ключі від моєї Тесли??!')) "
   ]
  },
  {
   "cell_type": "markdown",
   "id": "094c5d95",
   "metadata": {},
   "source": [
    "<b>re.findall(pattern, string)</b> - знайти у рядку string всі входження шаблону pattern"
   ]
  },
  {
   "cell_type": "code",
   "execution_count": 5,
   "id": "2777bbc0",
   "metadata": {},
   "outputs": [
    {
     "name": "stdout",
     "output_type": "stream",
     "text": [
      "['19.01.2021', '02.09.2022']\n"
     ]
    }
   ],
   "source": [
    "print(re.findall(r'\\d\\d\\.\\d\\d\\.\\d{4}', \n",
    "                 r'Цей рядок надрукували 19.01.2021, а могли б 02.09.2022')) "
   ]
  },
  {
   "cell_type": "markdown",
   "id": "c197458e",
   "metadata": {},
   "source": [
    "<b>re.finditer(pattern, string)</b> - Ітератор для всіх входжень шаблону pattern у рядок string. Повертає як входження, так і їх початкові індекси у рядку."
   ]
  },
  {
   "cell_type": "code",
   "execution_count": 6,
   "id": "2cc1e485",
   "metadata": {},
   "outputs": [
    {
     "name": "stdout",
     "output_type": "stream",
     "text": [
      "Дата 19.01.2021 починається з позиції 22\n",
      "Дата 02.09.2022 починається з позиції 44\n"
     ]
    }
   ],
   "source": [
    "for m in re.finditer(r'\\d\\d\\.\\d\\d\\.\\d{4}', r'Цей рядок надрукували 19.01.2021, а могли б 02.09.2022'): \n",
    "    print('Дата', m[0], 'починається з позиції', m.start()) "
   ]
  },
  {
   "cell_type": "markdown",
   "id": "7cf6c2d7",
   "metadata": {},
   "source": [
    "<b>re.sub(pattern, repl, string, count=0)</b> - замінити у рядку string всі входження шаблону pattern на вміст рядку repl"
   ]
  },
  {
   "cell_type": "code",
   "execution_count": 7,
   "id": "884182ca",
   "metadata": {},
   "outputs": [
    {
     "name": "stdout",
     "output_type": "stream",
     "text": [
      "Цей рядок надрукували DD.MM.YYYY, а могли б DD.MM.YYYY\n"
     ]
    }
   ],
   "source": [
    "print(re.sub(r'\\d\\d\\.\\d\\d\\.\\d{4}', \n",
    "             r'DD.MM.YYYY', \n",
    "             r'Цей рядок надрукували 19.01.2021, а могли б 02.09.2022')) "
   ]
  },
  {
   "cell_type": "markdown",
   "id": "456af708",
   "metadata": {},
   "source": [
    "<h3>Приклади регулярних виразів для ознайомлення:</h3>"
   ]
  },
  {
   "cell_type": "markdown",
   "id": "36ffa474",
   "metadata": {},
   "source": [
    "\"some text\" - текст «simple text»"
   ]
  },
  {
   "cell_type": "code",
   "execution_count": 8,
   "id": "16e1db1f",
   "metadata": {},
   "outputs": [
    {
     "data": {
      "text/plain": [
       "<re.Match object; span=(2, 4), match='me'>"
      ]
     },
     "execution_count": 8,
     "metadata": {},
     "output_type": "execute_result"
    }
   ],
   "source": [
    "string = \"some text\"\n",
    "pattern = \"me\"\n",
    "match = re.search(pattern, string)\n",
    "match"
   ]
  },
  {
   "cell_type": "code",
   "execution_count": 9,
   "id": "1b802a31",
   "metadata": {},
   "outputs": [],
   "source": [
    "string = \"some text\"\n",
    "pattern = \"eme\"\n",
    "match = re.search(pattern, string)\n",
    "match"
   ]
  },
  {
   "cell_type": "markdown",
   "id": "ab183292",
   "metadata": {},
   "source": [
    "\"\\d\" - будь-яка цифра\n",
    "\n",
    "\"\\d{n}\" - послідовність з визначеної кількості цифр"
   ]
  },
  {
   "cell_type": "code",
   "execution_count": 10,
   "id": "8ee4af49",
   "metadata": {},
   "outputs": [
    {
     "name": "stdout",
     "output_type": "stream",
     "text": [
      "<re.Match object; span=(9, 10), match='8'>\n"
     ]
    }
   ],
   "source": [
    "string = \"some text8234\"\n",
    "pattern = \"\\d\"\n",
    "match = re.search(pattern, string)\n",
    "print(match)"
   ]
  },
  {
   "cell_type": "code",
   "execution_count": 11,
   "id": "d51a2095",
   "metadata": {},
   "outputs": [
    {
     "name": "stdout",
     "output_type": "stream",
     "text": [
      "None\n"
     ]
    }
   ],
   "source": [
    "string = \"some text8234\"\n",
    "pattern = \"\\d{5}\"\n",
    "match = re.search(pattern, string)\n",
    "print(match)"
   ]
  },
  {
   "cell_type": "code",
   "execution_count": 12,
   "id": "f16df462",
   "metadata": {},
   "outputs": [
    {
     "name": "stdout",
     "output_type": "stream",
     "text": [
      "<re.Match object; span=(9, 11), match='82'>\n"
     ]
    }
   ],
   "source": [
    "string = \"some text8234\"\n",
    "pattern = \"\\d{2}\"\n",
    "match = re.search(pattern, string)\n",
    "print(match)"
   ]
  },
  {
   "cell_type": "markdown",
   "id": "17af5a1b",
   "metadata": {},
   "source": [
    "\\d\\d/\\d{2}/\\d{4} - Послідовність у вигляді дати ДД/ММ/РРРР, хоча може бути і 99/99/9999\n",
    "\n",
    "\\d  \\d  /  \\d{2}  /  \\d{4}"
   ]
  },
  {
   "cell_type": "code",
   "execution_count": 13,
   "id": "0aafd6f2",
   "metadata": {},
   "outputs": [
    {
     "name": "stdout",
     "output_type": "stream",
     "text": [
      "<re.Match object; span=(0, 10), match='24/08.1991'>\n"
     ]
    }
   ],
   "source": [
    "string = \"24/08.1991\"\n",
    "pattern = \"\\d{2}/\\d{2}.\\d\\d\\d\\d\"\n",
    "match = re.search(pattern, string)\n",
    "print(match)"
   ]
  },
  {
   "cell_type": "markdown",
   "id": "73af615d",
   "metadata": {},
   "source": [
    "\"\\b\\w{3}\\b\" - слова з 3 літер\n",
    "\n",
    "\\b - кінець або початок слова (тобто з одніє сторони літера, з іншої - не літера)\n",
    "\n",
    "\\w - будь-яка літера, цифра або _\n",
    "\n",
    "\\w{n} - визначена кількість літер"
   ]
  },
  {
   "cell_type": "code",
   "execution_count": 14,
   "id": "36d6e2cb",
   "metadata": {},
   "outputs": [
    {
     "name": "stdout",
     "output_type": "stream",
     "text": [
      "<re.Match object; span=(0, 2), match='so'>\n"
     ]
    }
   ],
   "source": [
    "string = \"some text!\"\n",
    "pattern = \"\\w{2}\"\n",
    "match = re.search(pattern, string)\n",
    "print(match)"
   ]
  },
  {
   "cell_type": "code",
   "execution_count": 15,
   "id": "09121444",
   "metadata": {},
   "outputs": [
    {
     "name": "stdout",
     "output_type": "stream",
     "text": [
      "<re.Match object; span=(0, 4), match='some'>\n"
     ]
    }
   ],
   "source": [
    "string = \"some text!\"\n",
    "pattern = \"\\w{4}\"\n",
    "match = re.search(pattern, string)\n",
    "print(match)"
   ]
  },
  {
   "cell_type": "code",
   "execution_count": 16,
   "id": "7b690187",
   "metadata": {},
   "outputs": [
    {
     "name": "stdout",
     "output_type": "stream",
     "text": [
      "None\n"
     ]
    }
   ],
   "source": [
    "string = \"some text!\"\n",
    "pattern = \"\\w{5}\"\n",
    "match = re.search(pattern, string)\n",
    "print(match)"
   ]
  },
  {
   "cell_type": "code",
   "execution_count": 17,
   "id": "6c5dce2f",
   "metadata": {},
   "outputs": [
    {
     "name": "stdout",
     "output_type": "stream",
     "text": [
      "<re.Match object; span=(5, 10), match='texts'>\n"
     ]
    }
   ],
   "source": [
    "string = \"some texts!\"\n",
    "pattern = r\"\\b\\w{5}\\b\"\n",
    "match = re.search(pattern, string)\n",
    "print(match)"
   ]
  },
  {
   "cell_type": "markdown",
   "id": "0f20c2e7",
   "metadata": {},
   "source": [
    "[-+]?\\d+ - будь-яке ціле число\n",
    "\n",
    "[-+]? - плюс, мінус або нічого\n",
    "\n",
    "\\d+ - будь-яка кількість цифр (аналогічно може бути \\w+)"
   ]
  },
  {
   "cell_type": "code",
   "execution_count": 18,
   "id": "1afc4cca",
   "metadata": {},
   "outputs": [
    {
     "name": "stdout",
     "output_type": "stream",
     "text": [
      "<re.Match object; span=(11, 13), match='-4'>\n"
     ]
    }
   ],
   "source": [
    "string = \"some texts -42!\"\n",
    "pattern = r\"[-+]?\\d{1}\"\n",
    "match = re.search(pattern, string)\n",
    "print(match)"
   ]
  },
  {
   "cell_type": "code",
   "execution_count": 19,
   "id": "cd9e483f",
   "metadata": {},
   "outputs": [
    {
     "name": "stdout",
     "output_type": "stream",
     "text": [
      "None\n"
     ]
    }
   ],
   "source": [
    "string = \"some texts -42!\"\n",
    "pattern = r\"[-+]?\\d{3}\"\n",
    "match = re.search(pattern, string)\n",
    "print(match)"
   ]
  },
  {
   "cell_type": "code",
   "execution_count": 20,
   "id": "1f7677c2",
   "metadata": {},
   "outputs": [
    {
     "name": "stdout",
     "output_type": "stream",
     "text": [
      "<re.Match object; span=(11, 14), match='-42'>\n"
     ]
    }
   ],
   "source": [
    "string = \"some texts -42!\"\n",
    "pattern = r\"[-+]?\\d+\"\n",
    "match = re.search(pattern, string)\n",
    "print(match)"
   ]
  },
  {
   "cell_type": "markdown",
   "id": "18656942",
   "metadata": {},
   "source": [
    "Сила та відповідальність\n",
    "\n",
    "Регулярні вирази, або коротко, регулярні – це дуже потужний інструмент. Але використовувати їх слід з розумом та обережністю, і лише там, де вони дійсно приносять користь, а не шкоду. По-перше, погано написані регулярні висловлювання працюють повільно. По-друге, їх часто дуже складно читати, особливо якщо регулярка написана не особисто тобою п'ять хвилин тому. По-третє, дуже часто навіть невелика зміна завдання (те, що потрібно знайти) призводить до значної зміни виразу. Тому про регулярки часто говорять, що це write only code (код, який тільки пишуть з нуля, але не читають і не правлять). А також жартують: Деякі люди, коли стикаються з проблемою, думають: «Я знаю, я вирішу її за допомогою регулярних виразів». Тепер вони мають дві проблеми. Ось приклад write-only регулярки (для перевірки валідності e-mail адреси (не треба так робити!)):"
   ]
  },
  {
   "cell_type": "markdown",
   "id": "9e866c3d",
   "metadata": {},
   "source": [
    "(?:[a-z0-9!#$%&'*+/=?^_`{|}~-]+(?:\\.[a-z0-9!#$%&'*+/=?^_`{|}~-]+)*|\"(?:[\\x01-\\x08\\x0b\\x0c\\x0e-\\x1f\\x21\\x23-\\x5b\\x5d-\\x7f]|\\\\[\\x01-\\x09\\x0b\\x0c\\x0e-\\x7f])*\")@(?:(?:[a-z0-9](?:[a-z0-9-]*[a-z0-9])?\\.)+[a-z0-9](?:[a-z0-9-]*[a-z0-9])?|\\[(?:(?:25[0-5]|\n",
    "2[0-4][0-9]|[01]?[0-9][0-9]?)\\.){3}(?:25[0-5]|2[0-4][0-9]|[01]?[0-9][0-9]?|[a-z0-9-]*[a-z0-9]:(?:[\\x01-\\x08\\x0b\\x0c\\x0e-\\x1f\\x21-\\x5a\\x53-\\x7f]|\\\\[\\x01-\\x09\\x0b\\x0c\\x0e-\\x7f])+)\\])"
   ]
  },
  {
   "cell_type": "markdown",
   "id": "03afa87c",
   "metadata": {},
   "source": [
    "А ось тут (http://www.ex-parrot.com/~pdw/Mail-RFC822-Address.html) більш точна регулярка для перевірки коректності email адрес стандарту RFC822. Якщо раптом перевірятимете email, то не робіть так! Якщо адресу вводить користувач, то нехай вводить майже що завгодно, аби там була собачка. Найнадійніше відправити туди листа і переконатися, що користувач може його отримати."
   ]
  },
  {
   "cell_type": "markdown",
   "id": "92d99588",
   "metadata": {},
   "source": [
    "Документація та посилання\n",
    "Оригінальна документація: https://docs.python.org/3/library/re.html;\n",
    "Дуже докладний та ґрунтовний матеріал: https://www.regular-expressions.info/;\n",
    "Різні складні трюки та тонкощі з прикладами: http://www.rexegg.com/;\n",
    "Он-лайн налагодження регулярок https://regex101.com (не забудьте поставити галочку Python у розділі FLAVOR зліва);\n",
    "Он-лайн візуалізація регулярок https://www.debuggex.com/ (не забудьте вибрати Python);\n",
    "Могутній текстовий редактор Sublime text 3 (http://www.sublimetext.com/3), у якому дуже зручний пошук по регулярках;"
   ]
  },
  {
   "cell_type": "markdown",
   "id": "af89a6a5",
   "metadata": {},
   "source": [
    "Основи синтаксису\n",
    "\n",
    "Будь-який рядок (в якому немає символів .^$*+?{}[]\\|()) є регулярним виразом. Так, виразу \"Хаха\" буде відповідати рядок \"Хаха\" і тільки він. Регулярні вирази є регістрозалежними, тому рядок \"хаха\" (з маленької літери) вже не відповідатиме виразу вище. \n",
    "\n",
    "Подібно до рядків у мові Python, регулярні вирази мають спецсимволи .^$*+?{}[]\\|(), які в регулярках є керуючими конструкціями. Для написання їх просто як символів потрібно їх екранувати, для чого потрібно поставити перед ними знак (або зазначити, що це сирий рядок - r). Так само, як і в пітоні, у регулярних виразах вираз \\n відповідає кінець рядка, а \\t - табуляцію."
   ]
  },
  {
   "cell_type": "markdown",
   "id": "b6750822",
   "metadata": {},
   "source": [
    "<h3>Шаблони, що відповідають одному символу</h3>"
   ]
  },
  {
   "cell_type": "markdown",
   "id": "a0cd4da8",
   "metadata": {},
   "source": [
    "\".\" - один символ, окрім нового рядка \\n"
   ]
  },
  {
   "cell_type": "code",
   "execution_count": 21,
   "id": "4887a41d",
   "metadata": {},
   "outputs": [
    {
     "name": "stdout",
     "output_type": "stream",
     "text": [
      "<re.Match object; span=(0, 2), match='Це'>\n"
     ]
    }
   ],
   "source": [
    "string = \"Це не я\"\n",
    "pattern = \"Ц.\"\n",
    "match = re.search(pattern, string)\n",
    "print(match)"
   ]
  },
  {
   "cell_type": "markdown",
   "id": "8ea2917a",
   "metadata": {},
   "source": [
    "\"\\d\" - будь-яка цифра\n",
    "\n",
    "..."
   ]
  },
  {
   "cell_type": "markdown",
   "id": "cf23623c",
   "metadata": {},
   "source": [
    "\"\\D\" - будь-який символ, окрім цифри"
   ]
  },
  {
   "cell_type": "code",
   "execution_count": 22,
   "id": "8301484d",
   "metadata": {},
   "outputs": [
    {
     "name": "stdout",
     "output_type": "stream",
     "text": [
      "<re.Match object; span=(6, 11), match='21?12'>\n"
     ]
    }
   ],
   "source": [
    "string = \"21212 21?12\"\n",
    "pattern = \"21\\D12\"\n",
    "match = re.search(pattern, string)\n",
    "print(match)"
   ]
  },
  {
   "cell_type": "markdown",
   "id": "3bc1a5d3",
   "metadata": {},
   "source": [
    "\"\\s\" - будь-який пробільний символ (пробіл, новий рядок, кінець рядку)"
   ]
  },
  {
   "cell_type": "code",
   "execution_count": 23,
   "id": "9e910ea9",
   "metadata": {},
   "outputs": [
    {
     "name": "stdout",
     "output_type": "stream",
     "text": [
      "<re.Match object; span=(4, 6), match='2 '>\n"
     ]
    }
   ],
   "source": [
    "string = \"21212 21?13\"\n",
    "pattern = \"2\\s\"\n",
    "match = re.search(pattern, string)\n",
    "print(match)"
   ]
  },
  {
   "cell_type": "code",
   "execution_count": 24,
   "id": "1fe436e9",
   "metadata": {},
   "outputs": [
    {
     "name": "stdout",
     "output_type": "stream",
     "text": [
      "None\n"
     ]
    }
   ],
   "source": [
    "string = \"21212 21?13\"\n",
    "pattern = \"3\\s\"\n",
    "match = re.search(pattern, string)\n",
    "print(match)"
   ]
  },
  {
   "cell_type": "markdown",
   "id": "4fed7629",
   "metadata": {},
   "source": [
    "\"\\w\" - будь-яка літера, цифра або _"
   ]
  },
  {
   "cell_type": "code",
   "execution_count": 25,
   "id": "218d43c3",
   "metadata": {},
   "outputs": [
    {
     "name": "stdout",
     "output_type": "stream",
     "text": [
      "<re.Match object; span=(5, 9), match=' 21_'>\n"
     ]
    }
   ],
   "source": [
    "string = \"21212 21_ 13\"\n",
    "pattern = \" \\w\\w\\w\"\n",
    "match = re.search(pattern, string)\n",
    "print(match)"
   ]
  },
  {
   "cell_type": "markdown",
   "id": "e4c13bf8",
   "metadata": {},
   "source": [
    "\"\\W\" - будь-яка нелітера, не цифра або не підкреслення"
   ]
  },
  {
   "cell_type": "code",
   "execution_count": 26,
   "id": "f972eae4",
   "metadata": {},
   "outputs": [
    {
     "name": "stdout",
     "output_type": "stream",
     "text": [
      "<re.Match object; span=(0, 4), match='Cat!'>\n"
     ]
    }
   ],
   "source": [
    "string = \"Cat!\"\n",
    "pattern = \"Cat\\W\"\n",
    "match = re.search(pattern, string)\n",
    "print(match)"
   ]
  },
  {
   "cell_type": "markdown",
   "id": "1a56a7a7",
   "metadata": {},
   "source": [
    "[..] - будь-який з символів у скобках, а також будь-який символ у діапазоні. Наприклад:\n",
    "\n",
    "[+-] - плюс або мінус\n",
    "\n",
    "[0-9] - будь-яка цифра від 0 до 9\n",
    "\n",
    "[a-d] - будь-яка літера малого регістру - a, b, c, d\n",
    "\n",
    "[0-9A-F] - будь-яка цифра або велика літера від A до F. Так само можна користуватись літерами інших мов\n",
    "\n",
    "Спробуйте дізнатись як управлятись з україноським текстом"
   ]
  },
  {
   "cell_type": "code",
   "execution_count": 27,
   "id": "a433fb1d",
   "metadata": {},
   "outputs": [
    {
     "name": "stdout",
     "output_type": "stream",
     "text": [
      "<re.Match object; span=(0, 2), match='1Д'>\n"
     ]
    }
   ],
   "source": [
    "string = \"1Д\"\n",
    "pattern = \"[0-9][А-К]\"\n",
    "match = re.search(pattern, string)\n",
    "print(match)"
   ]
  },
  {
   "cell_type": "code",
   "execution_count": 28,
   "id": "5495c33c",
   "metadata": {},
   "outputs": [
    {
     "name": "stdout",
     "output_type": "stream",
     "text": [
      "<re.Match object; span=(0, 3), match='1Fa'>\n"
     ]
    }
   ],
   "source": [
    "string = \"1Fa\"\n",
    "pattern = \"[0-9][0-9A-Fa-f][0-9A-Fa-f]\"\n",
    "match = re.search(pattern, string)\n",
    "print(match)"
   ]
  },
  {
   "cell_type": "code",
   "execution_count": 29,
   "id": "17e0a8c3",
   "metadata": {},
   "outputs": [
    {
     "name": "stdout",
     "output_type": "stream",
     "text": [
      "None\n"
     ]
    }
   ],
   "source": [
    "string = \"1Fa\"\n",
    "pattern = \"[0-9][0-9A-Fa-f][0-9A-F]\"\n",
    "match = re.search(pattern, string)\n",
    "print(match)"
   ]
  },
  {
   "cell_type": "markdown",
   "id": "26743be2",
   "metadata": {},
   "source": [
    "[^..] - будь-які символи, окрім зазначених"
   ]
  },
  {
   "cell_type": "code",
   "execution_count": 30,
   "id": "942c50ee",
   "metadata": {},
   "outputs": [
    {
     "name": "stdout",
     "output_type": "stream",
     "text": [
      "<re.Match object; span=(0, 3), match='1Fa'>\n"
     ]
    }
   ],
   "source": [
    "string = \"1Fa\"\n",
    "pattern = \"[0-9][0-9A-Fa-f][^0-9A-F]\"\n",
    "match = re.search(pattern, string)\n",
    "print(match)"
   ]
  },
  {
   "cell_type": "code",
   "execution_count": 31,
   "id": "a1533060",
   "metadata": {},
   "outputs": [
    {
     "name": "stdout",
     "output_type": "stream",
     "text": [
      "None\n"
     ]
    }
   ],
   "source": [
    "string = \"1Fa\"\n",
    "pattern = \"[^0-9][0-9A-Fa-f][0-9A-F]\"\n",
    "match = re.search(pattern, string)\n",
    "print(match)"
   ]
  },
  {
   "cell_type": "markdown",
   "id": "d7a3296e",
   "metadata": {},
   "source": [
    "Якщо потрібен мінус, його потрібно ставити першим або останнім"
   ]
  },
  {
   "cell_type": "code",
   "execution_count": 32,
   "id": "a14db04e",
   "metadata": {},
   "outputs": [
    {
     "name": "stdout",
     "output_type": "stream",
     "text": [
      "<re.Match object; span=(0, 4), match='-1Fa'>\n"
     ]
    }
   ],
   "source": [
    "string = \"-1Fa\"\n",
    "pattern = \"[-0-9][0-9][0-9A-Fa-f][^0-9A-F]\"\n",
    "match = re.search(pattern, string)\n",
    "print(match)"
   ]
  },
  {
   "cell_type": "markdown",
   "id": "28c88ec8",
   "metadata": {},
   "source": [
    "\\b - кінець або початок слова (тобто з одніє сторони літера, з іншої - не літера)"
   ]
  },
  {
   "cell_type": "markdown",
   "id": "a60b979e",
   "metadata": {},
   "source": [
    "\\B - або праворуч і ліворуч літери, або ліворуч та праворуч не літери"
   ]
  },
  {
   "cell_type": "code",
   "execution_count": 33,
   "id": "971b1f18",
   "metadata": {},
   "outputs": [
    {
     "name": "stdout",
     "output_type": "stream",
     "text": [
      "<re.Match object; span=(1, 3), match='om'>\n"
     ]
    }
   ],
   "source": [
    "string = \"some texts -42!\"\n",
    "pattern = \"\\B\\w+\\B\"\n",
    "match = re.search(pattern, string)\n",
    "print(match)"
   ]
  },
  {
   "cell_type": "code",
   "execution_count": 34,
   "id": "9accdfeb",
   "metadata": {},
   "outputs": [
    {
     "name": "stdout",
     "output_type": "stream",
     "text": [
      "<re.Match object; span=(6, 9), match='ext'>\n"
     ]
    }
   ],
   "source": [
    "string = \"some texts -42!\"\n",
    "pattern = \"\\B\\w{3}\\B\"\n",
    "match = re.search(pattern, string)\n",
    "print(match)"
   ]
  },
  {
   "cell_type": "markdown",
   "id": "f86e9234",
   "metadata": {},
   "source": [
    "<h3>Квантифікатори (указання кількості повторень)</h3>"
   ]
  },
  {
   "cell_type": "markdown",
   "id": "a14befbc",
   "metadata": {},
   "source": [
    "{n} - n повторень"
   ]
  },
  {
   "cell_type": "markdown",
   "id": "3aaa215f",
   "metadata": {},
   "source": [
    "{m, n} - Від m до n повторень"
   ]
  },
  {
   "cell_type": "code",
   "execution_count": 35,
   "id": "8f928aab",
   "metadata": {},
   "outputs": [
    {
     "name": "stdout",
     "output_type": "stream",
     "text": [
      "None\n"
     ]
    }
   ],
   "source": [
    "string = \"1 12 123 1234 12345 123456\"\n",
    "pattern = \"\\d{3, 5}\"\n",
    "match = re.search(pattern, string)\n",
    "print(match)"
   ]
  },
  {
   "cell_type": "code",
   "execution_count": 36,
   "id": "84964f7f",
   "metadata": {},
   "outputs": [
    {
     "name": "stdout",
     "output_type": "stream",
     "text": [
      "<re.Match object; span=(5, 8), match='123'>\n"
     ]
    }
   ],
   "source": [
    "string = \"1 12 123 1234 12345 123456\"\n",
    "pattern = \"\\d{3,5}\"\n",
    "match = re.search(pattern, string)\n",
    "print(match)"
   ]
  },
  {
   "cell_type": "markdown",
   "id": "ca58ed21",
   "metadata": {},
   "source": [
    "{m,} - мінімум m повторень"
   ]
  },
  {
   "cell_type": "code",
   "execution_count": 37,
   "id": "6be7816c",
   "metadata": {},
   "outputs": [
    {
     "name": "stdout",
     "output_type": "stream",
     "text": [
      "<re.Match object; span=(5, 8), match='123'>\n"
     ]
    }
   ],
   "source": [
    "string = \"1 12 123 1234 12345 123456\"\n",
    "pattern = \"\\d{3,}\"\n",
    "match = re.search(pattern, string)\n",
    "print(match)"
   ]
  },
  {
   "cell_type": "code",
   "execution_count": 38,
   "id": "65a1ba15",
   "metadata": {},
   "outputs": [
    {
     "name": "stdout",
     "output_type": "stream",
     "text": [
      "<re.Match object; span=(20, 26), match='123456'>\n"
     ]
    }
   ],
   "source": [
    "string = \"1 12 123 1234 1234! 123456\"\n",
    "pattern = \"\\d{5,}\"\n",
    "match = re.search(pattern, string)\n",
    "print(match)"
   ]
  },
  {
   "cell_type": "markdown",
   "id": "e6dbd7fc",
   "metadata": {},
   "source": [
    "{,n} - не більше n повторень"
   ]
  },
  {
   "cell_type": "code",
   "execution_count": 39,
   "id": "98fb9a8a",
   "metadata": {},
   "outputs": [
    {
     "name": "stdout",
     "output_type": "stream",
     "text": [
      "<re.Match object; span=(0, 1), match='1'>\n"
     ]
    }
   ],
   "source": [
    "string = \"1 12 123 1234 12345 123456\"\n",
    "pattern = \"\\d{,2}\"\n",
    "match = re.search(pattern, string)\n",
    "print(match)"
   ]
  },
  {
   "cell_type": "code",
   "execution_count": 40,
   "id": "f20ac097",
   "metadata": {},
   "outputs": [
    {
     "name": "stdout",
     "output_type": "stream",
     "text": [
      "<re.Match object; span=(0, 1), match='1'>\n"
     ]
    }
   ],
   "source": [
    "string = \"1! 123 1234 1234! 123456\"\n",
    "pattern = \"\\d{,4}\"\n",
    "match = re.search(pattern, string)\n",
    "print(match)"
   ]
  },
  {
   "cell_type": "markdown",
   "id": "08d0e319",
   "metadata": {},
   "source": [
    "? - 0 або 1 входження"
   ]
  },
  {
   "cell_type": "code",
   "execution_count": 41,
   "id": "42038165",
   "metadata": {},
   "outputs": [
    {
     "name": "stdout",
     "output_type": "stream",
     "text": [
      "<re.Match object; span=(1, 3), match='ам'>\n"
     ]
    }
   ],
   "source": [
    "string = \"Рам-Бам-Вам\"\n",
    "pattern = \"Б?ам\"\n",
    "match = re.search(pattern, string)\n",
    "print(match)"
   ]
  },
  {
   "cell_type": "markdown",
   "id": "7d6182f0",
   "metadata": {},
   "source": [
    "<b>*</b>   - 0 і більше повторень"
   ]
  },
  {
   "cell_type": "code",
   "execution_count": 42,
   "id": "0fba24ca",
   "metadata": {},
   "outputs": [
    {
     "name": "stdout",
     "output_type": "stream",
     "text": [
      "<re.Match object; span=(0, 2), match='АН'>\n"
     ]
    }
   ],
   "source": [
    "string = \"АН\"\n",
    "pattern = \"\\w{2}\\d*\"\n",
    "match = re.search(pattern, string)\n",
    "print(match)"
   ]
  },
  {
   "cell_type": "code",
   "execution_count": 43,
   "id": "eca53e7a",
   "metadata": {},
   "outputs": [
    {
     "name": "stdout",
     "output_type": "stream",
     "text": [
      "<re.Match object; span=(0, 6), match='АН1234'>\n"
     ]
    }
   ],
   "source": [
    "string = \"АН1234\"\n",
    "pattern = \"\\w{2}\\d*\"\n",
    "match = re.search(pattern, string)\n",
    "print(match)"
   ]
  },
  {
   "cell_type": "markdown",
   "id": "8d2b7b11",
   "metadata": {},
   "source": [
    "<b>+</b> - 1 і більше повторень"
   ]
  },
  {
   "cell_type": "code",
   "execution_count": 3,
   "id": "740d6198",
   "metadata": {},
   "outputs": [
    {
     "name": "stdout",
     "output_type": "stream",
     "text": [
      "None\n"
     ]
    }
   ],
   "source": [
    "string = \"АН\"\n",
    "pattern = \"\\w{2}\\d+\"\n",
    "match = re.search(pattern, string)\n",
    "print(match)"
   ]
  },
  {
   "cell_type": "code",
   "execution_count": 4,
   "id": "83b60ea2",
   "metadata": {},
   "outputs": [
    {
     "name": "stdout",
     "output_type": "stream",
     "text": [
      "<re.Match object; span=(0, 6), match='АН1234'>\n"
     ]
    }
   ],
   "source": [
    "string = \"АН1234\"\n",
    "pattern = \"\\w{2}\\d+\"\n",
    "match = re.search(pattern, string)\n",
    "print(match)"
   ]
  },
  {
   "cell_type": "code",
   "execution_count": 5,
   "id": "a70cfb29",
   "metadata": {},
   "outputs": [
    {
     "name": "stdout",
     "output_type": "stream",
     "text": [
      "<re.Match object; span=(0, 4), match='АН12'>\n"
     ]
    }
   ],
   "source": [
    "string = \"АН12TT34\"\n",
    "pattern = \"\\w{2}\\d+\"\n",
    "match = re.search(pattern, string)\n",
    "print(match)"
   ]
  },
  {
   "cell_type": "markdown",
   "id": "887a4755",
   "metadata": {},
   "source": [
    "За замовчанням, квантифікатори <i>жадібні</i>, тобто захоплюють максимально можливу кількість символів. Додавання <i>?</i> роблять їх <i>лінивими</i> - вони захоплюють мінімально можливу кількість символів."
   ]
  },
  {
   "cell_type": "markdown",
   "id": "765901dd",
   "metadata": {},
   "source": [
    "<i>Підказка: зверніть увагу на дужки</i>"
   ]
  },
  {
   "cell_type": "code",
   "execution_count": 6,
   "id": "8ba9192d",
   "metadata": {
    "scrolled": true
   },
   "outputs": [
    {
     "name": "stdout",
     "output_type": "stream",
     "text": [
      "<re.Match object; span=(0, 27), match='(a + b) * (c + d) * (e + f)'>\n"
     ]
    }
   ],
   "source": [
    "string = \"(a + b) * (c + d) * (e + f)\"\n",
    "pattern = \"\\(.*\\)\"\n",
    "match = re.search(pattern, string)\n",
    "print(match)"
   ]
  },
  {
   "cell_type": "code",
   "execution_count": 7,
   "id": "0e0fd613",
   "metadata": {},
   "outputs": [
    {
     "name": "stdout",
     "output_type": "stream",
     "text": [
      "<re.Match object; span=(0, 7), match='(a + b)'>\n"
     ]
    }
   ],
   "source": [
    "string = \"(a + b) * (c + d) * (e + f)\"\n",
    "pattern = \"\\(.*?\\)\"\n",
    "match = re.search(pattern, string)\n",
    "print(match)"
   ]
  },
  {
   "cell_type": "markdown",
   "id": "947d7016",
   "metadata": {},
   "source": [
    "<h3>Орієнтовне завдання:</h3>"
   ]
  },
  {
   "cell_type": "markdown",
   "id": "6db57280",
   "metadata": {},
   "source": [
    "Для сдачі лабораторної потрібно буде виконати 3 типові завдання впродовж відповіді (5-6 хвилин). Нижче наведено типові завдання, за допомогою яких можна підготуватись.\n",
    "\n",
    "Подивіться, як працюють прості шаблони та квантифікатори. Відкрийте пісочницю - https://regex101.com/. Розв'яжіть такі завдання для тексту нижче:\n",
    "- Знайдіть усі натуральні числа (можливо, оточені літерами);\n",
    "- Знайдіть усі «слова», написані капсом (тобто великими літерами), можливо всередині справжніх слів (аааБББввв);\n",
    "- Знайдіть слова, в яких є українська літера, за якою може бути цифра;\n",
    "- Знайдіть усі слова, що починаються з української або латинської великої літери (\\b – межа слова);\n",
    "- Знайдіть слова, які починаються на голосну (\\b - межа слова);\n",
    "- Знайдіть усі натуральні числа, що не знаходяться всередині або на межі слова;\n",
    "- Знайдіть рядки, в яких є символ * ;\n",
    "- Знайдіть рядки, в яких є дужки, що відкриваються і потім закриваються в кінці;\n",
    "- Виділіть одним весь шматок змісту (наприкінці прикладу, разом із тегами);\n",
    "- Виділіть одним лише текстову частину змісту, без тегів;\n",
    "- Знайдіть порожні рядки."
   ]
  },
  {
   "cell_type": "markdown",
   "id": "5755ef00",
   "metadata": {},
   "source": [
    "Регулярні вирази є схожим, але набагато сильнішим інструментом.\n",
    "для пошуку рядків, їх перевірки на відповідність якомусь шаблону та іншій подібній\n",
    "роботі. Англомовна назва цього інструменту – Regular Expressions або просто RegExp.\n",
    "Строго кажучи, регулярні вирази – спеціальна мова для опису шаблонів рядків.\n",
    "\n",
    "АААА аааа АаАаАаАа 123 123 12345 11223344\n",
    "А1Б2В3 АА11 ББ22ВВ 33ГГ44\n",
    "\n",
    "Тест! Ще! Даєш! ЇЇ\n",
    "\n",
    "QwertyЙцукен\n",
    "\n",
    "+-,/[](), *** (***), a*(b+[c+d])*e/f+g-h\n",
    "\n",
    "!!\"\"\"####$$$$$%%%%%&&&'''((((())***++++,,,,,-----..// :::;;;;<<<<<===>>>?????\n",
    "@@@@@[[[[\\\\\\]]]]]]^^^__``````{{{{|||||}}}}}~~~~~\n",
    "\n",
    "<a href=\"#10\">10: CamelCase -> under_score</a>;\n",
    "<a href=\"#11\">11: Видалення повторів</a>;\n",
    "<a href=\"#12\">12: Близькі слова</a>;\n",
    "<a href=\"#13\">13: Форматування великих чисел</a>;\n",
    "<a href=\"#14\">14: Розділити текст на пропозиції</a>;\n",
    "<a href=\"#15\">15: Форматування номера телефону</a>;\n",
    "<a href=\"#16\">16: Пошук e-mailів — 2</a>;"
   ]
  }
 ],
 "metadata": {
  "kernelspec": {
   "display_name": "Python 3",
   "language": "python",
   "name": "python3"
  },
  "language_info": {
   "codemirror_mode": {
    "name": "ipython",
    "version": 3
   },
   "file_extension": ".py",
   "mimetype": "text/x-python",
   "name": "python",
   "nbconvert_exporter": "python",
   "pygments_lexer": "ipython3",
   "version": "3.10.8 (tags/v3.10.8:aaaf517, Oct 11 2022, 16:50:30) [MSC v.1933 64 bit (AMD64)]"
  },
  "vscode": {
   "interpreter": {
    "hash": "a6511e6b41b26ba86cca7483749cf4dd15bf137a2672e550741a656e19bba82e"
   }
  }
 },
 "nbformat": 4,
 "nbformat_minor": 5
}
