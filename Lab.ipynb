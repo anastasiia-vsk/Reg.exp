{
 "cells": [
  {
   "cell_type": "code",
   "execution_count": null,
   "metadata": {},
   "outputs": [],
   "source": [
    "import re"
   ]
  },
  {
   "cell_type": "markdown",
   "metadata": {},
   "source": [
    "### Завдання 1"
   ]
  },
  {
   "cell_type": "markdown",
   "metadata": {},
   "source": [
    "Розробити скрипт, який рахує кількість слів у введеному тексті. "
   ]
  },
  {
   "cell_type": "code",
   "execution_count": null,
   "metadata": {},
   "outputs": [],
   "source": [
    "text = \"Регулярні вирази є схожим, але набагато сильнішим інструментом для пошуку рядків,\\\n",
    "    їх перевірки на відповідність якомусь шаблону та іншій подібній роботі. Англомовна назва цього інструменту – Regular Expressions або просто RegExp.\\\n",
    "    Строго кажучи, регулярні вирази – спеціальна мова для опису шаблонів рядків.\""
   ]
  },
  {
   "cell_type": "code",
   "execution_count": null,
   "metadata": {},
   "outputs": [],
   "source": [
    "def count_word(text: str) -> int:\n",
    "    return len(re.findall(r'\\w+', text))"
   ]
  },
  {
   "cell_type": "code",
   "execution_count": null,
   "metadata": {},
   "outputs": [
    {
     "data": {
      "text/plain": [
       "40"
      ]
     },
     "execution_count": 6,
     "metadata": {},
     "output_type": "execute_result"
    }
   ],
   "source": [
    "count_word(text)"
   ]
  },
  {
   "cell_type": "markdown",
   "metadata": {},
   "source": [
    "#### Ускладнене"
   ]
  },
  {
   "cell_type": "code",
   "execution_count": null,
   "metadata": {},
   "outputs": [
    {
     "data": {
      "text/plain": [
       "10"
      ]
     },
     "execution_count": 39,
     "metadata": {},
     "output_type": "execute_result"
    }
   ],
   "source": [
    "len(re.findall(r'\\w+', \"Строго кажучи, регулярні вирази – спеціальна мова для опису шаблонів рядків.\"))"
   ]
  },
  {
   "cell_type": "code",
   "execution_count": null,
   "metadata": {},
   "outputs": [
    {
     "data": {
      "text/plain": [
       "10"
      ]
     },
     "execution_count": 41,
     "metadata": {},
     "output_type": "execute_result"
    }
   ],
   "source": [
    "len(re.findall(r'\\w+', str(input())))"
   ]
  },
  {
   "cell_type": "markdown",
   "metadata": {},
   "source": [
    "#### Завдання 2"
   ]
  },
  {
   "cell_type": "markdown",
   "metadata": {},
   "source": [
    "Розробити скрипт, який буде отримувати номер авто та визначати валідність номеру та регіон реєстрації.\n",
    "Номера, що можуть бути введені відповідають поточному українському законодавству (лише стандартні номери,номери на замовлення не використовуємо).\n",
    "Використайте лише 3 регіони реєстрації України."
   ]
  },
  {
   "cell_type": "code",
   "execution_count": null,
   "metadata": {},
   "outputs": [],
   "source": [
    "def auto_number(number: str):\n",
    "    s = re.match(r'^([а-аА-Я]{2})\\d{4}[а-аА-Я]{2}$', number).group(1)\n",
    "\n",
    "    if s == 'АВ' or s == 'КВ':\n",
    "        return'Вінницька обл '\n",
    "    if s == 'АА' or s == 'КА':\n",
    "        return 'Київська обл.'\n",
    "    if s == 'ВС' or s == 'НС':\n",
    "        return 'Львівська обл.'"
   ]
  },
  {
   "cell_type": "code",
   "execution_count": null,
   "metadata": {},
   "outputs": [
    {
     "name": "stdout",
     "output_type": "stream",
     "text": [
      "Київська обл.\n"
     ]
    }
   ],
   "source": [
    "print(auto_number('КА1234ЛА'))"
   ]
  },
  {
   "cell_type": "code",
   "execution_count": null,
   "metadata": {},
   "outputs": [
    {
     "name": "stdout",
     "output_type": "stream",
     "text": [
      "Вінницька обл \n"
     ]
    }
   ],
   "source": [
    "print(auto_number('КВ1234ЛА'))"
   ]
  },
  {
   "cell_type": "code",
   "execution_count": null,
   "metadata": {},
   "outputs": [
    {
     "name": "stdout",
     "output_type": "stream",
     "text": [
      "Львівська обл.\n"
     ]
    }
   ],
   "source": [
    "print(auto_number('ВС1234ЛА'))"
   ]
  },
  {
   "cell_type": "markdown",
   "metadata": {},
   "source": [
    "##### Завдання 3"
   ]
  },
  {
   "cell_type": "markdown",
   "metadata": {},
   "source": [
    "Розробити скрипт, який буде отримувати текст і виводити у консоль всі e-mail,\n",
    "які знаходяться в тексті. Для визначення e-mail, слід використати стандарт RFC 5322."
   ]
  },
  {
   "cell_type": "code",
   "execution_count": null,
   "metadata": {},
   "outputs": [],
   "source": [
    "text = 'Доброго дня. Надіслали Вам лист на вказану адресу hello@gmail.com . Якщо Вас задовільняють умови співпраці, надішліть зворотну відповідь на companyname@gmail.com .'"
   ]
  },
  {
   "cell_type": "code",
   "execution_count": null,
   "metadata": {},
   "outputs": [],
   "source": [
    "def search_email(text: str) -> list:\n",
    "    components = r'[\\w+\\-+{!}.]+'\n",
    "    email_ll = components + r'@' + components\n",
    "\n",
    "    return re.findall(email_ll, text)"
   ]
  },
  {
   "cell_type": "code",
   "execution_count": null,
   "metadata": {},
   "outputs": [
    {
     "name": "stdout",
     "output_type": "stream",
     "text": [
      "['hello@gmail.com', 'companyname@gmail.com']\n"
     ]
    }
   ],
   "source": [
    "print(search_email(text))"
   ]
  },
  {
   "cell_type": "markdown",
   "metadata": {},
   "source": [
    "##### Завдання 4"
   ]
  },
  {
   "cell_type": "markdown",
   "metadata": {},
   "source": [
    "Розробіть скрипт, який буде порівнювати пароль, що вводить користувач з шаблоном, зашитим у коді.\n",
    "При цьому порівняння не повинно враховувати регістр, пробіли та всі інші розділові знаки, крім дефісу."
   ]
  },
  {
   "cell_type": "code",
   "execution_count": null,
   "metadata": {},
   "outputs": [],
   "source": [
    "ignored = r'[\\s\\.,+_]*'\n"
   ]
  },
  {
   "cell_type": "code",
   "execution_count": null,
   "metadata": {},
   "outputs": [],
   "source": [
    "def matched(sample: str, password: str) -> bool:\n",
    "    password = re.sub(ignored, '', password)\n",
    "\n",
    "    return sample.lower() == password.lower()\n"
   ]
  },
  {
   "cell_type": "code",
   "execution_count": null,
   "metadata": {},
   "outputs": [
    {
     "name": "stdout",
     "output_type": "stream",
     "text": [
      "False\n"
     ]
    }
   ],
   "source": [
    "print(matched('aaaaa3','a aaaaab3'))"
   ]
  },
  {
   "cell_type": "code",
   "execution_count": null,
   "metadata": {},
   "outputs": [
    {
     "name": "stdout",
     "output_type": "stream",
     "text": [
      "True\n"
     ]
    }
   ],
   "source": [
    "print(matched('a1b2-c3', 'a1B2-c.3'))"
   ]
  },
  {
   "cell_type": "code",
   "execution_count": null,
   "metadata": {},
   "outputs": [
    {
     "name": "stdout",
     "output_type": "stream",
     "text": [
      "True\n"
     ]
    }
   ],
   "source": [
    "print(matched('a1b2-c3','a1+b2-C3'))"
   ]
  },
  {
   "cell_type": "markdown",
   "metadata": {},
   "source": [
    "##### Завдання 5"
   ]
  },
  {
   "cell_type": "markdown",
   "metadata": {},
   "source": [
    "Розробіть скрипт, який буде брати перші літери кожного слова\n",
    "та створювати з нього абревіатуру (н-д, НАСА, ЗВО і т.д.)."
   ]
  },
  {
   "cell_type": "code",
   "execution_count": null,
   "metadata": {},
   "outputs": [],
   "source": [
    "def abbr(text: str):\n",
    "    return''.join(re.findall(r'\\b[а-яїіА-Я]', text)).upper()"
   ]
  },
  {
   "cell_type": "code",
   "execution_count": null,
   "metadata": {},
   "outputs": [
    {
     "name": "stdout",
     "output_type": "stream",
     "text": [
      "МВФ\n"
     ]
    }
   ],
   "source": [
    "print(abbr(\"Міжнародний валютний фонд\"))"
   ]
  },
  {
   "cell_type": "code",
   "execution_count": null,
   "metadata": {},
   "outputs": [
    {
     "name": "stdout",
     "output_type": "stream",
     "text": [
      "СБУ\n"
     ]
    }
   ],
   "source": [
    "print(abbr(\"Служба безпеки України\"))\n"
   ]
  },
  {
   "cell_type": "code",
   "execution_count": null,
   "metadata": {},
   "outputs": [
    {
     "name": "stdout",
     "output_type": "stream",
     "text": [
      "МЗС\n"
     ]
    }
   ],
   "source": [
    "print(abbr(\"Міністерство закордонних справ\"))\n"
   ]
  },
  {
   "cell_type": "markdown",
   "metadata": {},
   "source": [
    "##### Ускладнене"
   ]
  },
  {
   "cell_type": "code",
   "execution_count": null,
   "metadata": {},
   "outputs": [
    {
     "name": "stdout",
     "output_type": "stream",
     "text": [
      "['З', 'Н', 'О']\n"
     ]
    }
   ],
   "source": [
    "print(re.findall(r'\\b\\w', str('Зовнішнє Незалежне Оцінювання')))"
   ]
  },
  {
   "cell_type": "markdown",
   "metadata": {},
   "source": [
    "##### Завдання 6"
   ]
  },
  {
   "cell_type": "markdown",
   "metadata": {},
   "source": [
    "Хайку - жанр традиційної японської ліричної поезії століття, відомий з XIV століття. Оригінальне японське хайку складається з 17 складів, що становлять один стовпець ієрогліфів. Особливими розділовими словами - кіредзі - текст хайку розділяється на частини з 5, 7 і знову 5 складів. При перекладі хайку на західні мови традиційно замість розділового слова використовують розрив рядка і, таким чином, хайку записуються як тривіршів.\n",
    "\n",
    "Перед вами тривірші, які претендують на те, щоб бути хайку. Як роздільник рядків використовуються символи \"/\". Якщо роздільники ділять текст на рядки, в яких 5/7/5 складів, то виведіть «Хайку!». Якщо число рядків не дорівнює 3, то виведіть рядок «Не хайку. Повинно бути 3 рядки.» Інакше виведіть рядок виду «Не хайку. В i рядку складів не s, а j.», Де рядок i - перший рядок, в якому кількість складів неправильна.\n",
    "Для простоти будемо вважати, що кількість складів дорівнює кількості голосних.\n",
    "Ще не померла! / Закінчується осінь, / Я йду за обрій. - Хайку!\n",
    "Ночую просто неба. / Виє пес. / Теж допекла, мабýть, осіння мряка! - Не хайку! У першому рядку 7 складів замість 5.\n",
    "Вода замерзла, / Розколовши глечик. / І тріск раптовий розбудив мене. - Не хайку! У другому рядку 6 складів замість 7."
   ]
  },
  {
   "cell_type": "markdown",
   "metadata": {},
   "source": [
    "Ще не померла! / Закінчується осінь, / Я йду за обрій.\n",
    "\n",
    "Ночую просто неба. / Виє пес. / Теж допекла, мабýть, осіння мряка!\n",
    "\n",
    "Вода замерзла, / Розколовши глечик. / І тріск раптовий розбудив мене."
   ]
  },
  {
   "cell_type": "code",
   "execution_count": null,
   "metadata": {},
   "outputs": [
    {
     "name": "stdout",
     "output_type": "stream",
     "text": [
      "Хайку\n"
     ]
    }
   ],
   "source": [
    "haiku = str(input())\n",
    "result = re.findall('[уеїіаоєяиюУЕЇІАОЄЯИЮ]', haiku)\n",
    "\n",
    "if haiku.count(\"/\") != 2:\n",
    "    print(\"Не хайку. Повинно бути 3 рядки\")\n",
    "else:\n",
    "    print('Хайку')"
   ]
  },
  {
   "cell_type": "code",
   "execution_count": null,
   "metadata": {},
   "outputs": [
    {
     "name": "stdout",
     "output_type": "stream",
     "text": [
      "Не хайку. В 1 рядку складів не 5, a 7\n",
      "Не хайку. В 2 рядку складів не 7, a 3\n",
      "Не хайку. В 3 рядку складів не 5, a 10\n"
     ]
    },
    {
     "ename": "",
     "evalue": "",
     "output_type": "error",
     "traceback": [
      "\u001b[1;31mThe Kernel crashed while executing code in the the current cell or a previous cell. Please review the code in the cell(s) to identify a possible cause of the failure. Click <a href='https://aka.ms/vscodeJupyterKernelCrash'>here</a> for more info. View Jupyter <a href='command:jupyter.viewOutput'>log</a> for further details."
     ]
    }
   ],
   "source": [
    "result1 = re.split('/', haiku)\n",
    "\n",
    "result10 = re.findall('[уеїіаоєяиюУЕЇІАОЄЯИЮ]', result1[0])\n",
    "result11 = re.findall('[уеїіаоєяиюУЕЇІАОЄЯИЮ]', result1[1])\n",
    "result12 = re.findall('[уеїіаоєяиюУЕЇІАОЄЯИЮ]', result1[2])\n",
    "\n",
    "if len(result10) != 5:\n",
    "    print(\"Не хайку. В 1 рядку складів не 5, a\", len(result10))\n",
    "    exit()\n",
    "if len(result11) != 7:\n",
    "    print(\"Не хайку. В 2 рядку складів не 7, a\", len(result11))\n",
    "    exit()\n",
    "if len(result12) != 5:\n",
    "    print(\"Не хайку. В 3 рядку складів не 5, a\", len(result12))\n",
    "    exit()\n",
    "\n",
    "if len(result10) == 5 and len(result11) == 7 and len(result12) == 5:\n",
    "    print(\"Хайку!\")"
   ]
  },
  {
   "cell_type": "markdown",
   "metadata": {},
   "source": [
    "##### Завдання 7"
   ]
  },
  {
   "cell_type": "markdown",
   "metadata": {},
   "source": [
    "Дуже поширена помилка помилка - це повторення слів. \n",
    "Так, у попередньому реченні така помилка була допущена. Необхідно виправити кожне таке повторення слів. Контрольний текст:\n",
    "\"Дуже поширена помилка помилка - це лише повторення повторення слова слова. Смішно, чи чи не так? Це - книга книгарні.\""
   ]
  },
  {
   "cell_type": "code",
   "execution_count": null,
   "metadata": {},
   "outputs": [],
   "source": [
    "text = \"Дуже поширена помилка помилка - це лише повторення повторення слова слова. Смішно, чи чи не так? Це - книга книгарні\""
   ]
  },
  {
   "cell_type": "code",
   "execution_count": null,
   "metadata": {},
   "outputs": [
    {
     "data": {
      "text/plain": [
       "'Дуже поширена помилка - це лише повторення слова. Смішно, чи не так? Це - книга книгарні'"
      ]
     },
     "execution_count": 32,
     "metadata": {},
     "output_type": "execute_result"
    }
   ],
   "source": [
    "def repetition(text: str):\n",
    "    return re.sub(r'\\b(\\w+)(\\s+(\\1)\\b)+', r'\\1', text)\n",
    "repetition(text)"
   ]
  },
  {
   "cell_type": "markdown",
   "metadata": {},
   "source": [
    "##### Завдання 8"
   ]
  },
  {
   "cell_type": "markdown",
   "metadata": {},
   "source": [
    "Великі числа зручно читати, якщо їхні цифри розділені комами на трійки. Розробіть скрипт, в кожному числі, яке є в тексті, додає коми де потрібно."
   ]
  },
  {
   "cell_type": "code",
   "execution_count": null,
   "metadata": {},
   "outputs": [],
   "source": [
    "def split(number: str):\n",
    "    number = number[::-1]\n",
    "    number = re.sub(r'(\\d{3})(?=\\d)', r'\\1,', number)\n",
    "\n",
    "    return number[::-1]"
   ]
  },
  {
   "cell_type": "code",
   "execution_count": null,
   "metadata": {},
   "outputs": [
    {
     "name": "stdout",
     "output_type": "stream",
     "text": [
      "123,456\n",
      "1,234,567\n",
      "12,345,678\n"
     ]
    }
   ],
   "source": [
    "print(split('123456'))\n",
    "print(split('1234567'))\n",
    "print(split('12345678'))"
   ]
  },
  {
   "cell_type": "markdown",
   "metadata": {},
   "source": [
    "##### Завдання 9"
   ]
  },
  {
   "cell_type": "markdown",
   "metadata": {},
   "source": [
    "Напишіть скрипт, який буде отримувати текст і переформатує його таким чином, щоб кожне речення займало лише один рядок. Для простоти вважатимемо, що\n",
    "- кожне речення починається з великої кириличної або латинської літери;\n",
    "- кожне речення закінчується одним з роздільних знаків \".;!?\"\n",
    "- між реченнями можуть знаходитись будь-яка кількість пробільних символів;\n",
    "- в середині тексту відсутні великих букв та крапок;\n",
    "- порожніх рядків у виводі не повинно бути;\n",
    "- будь-які набори з більш, ніж одного пробільного символу замінюйте на один пробіл.\n",
    "Контрольний текст:\n",
    "\"В        цьому \n",
    "реченні розриви рядків... Але це \n",
    "не так важливо! Зовсім? Так, зовсім! І це не повинно   заважати.\"\n",
    "Вивід:\n",
    "\"В цьому реченні розриви рядків...\n",
    "Але це не так важливо!\n",
    "Зовсім?\n",
    "Так, зовсім!\n",
    "І це не повинно заважати.\""
   ]
  },
  {
   "cell_type": "code",
   "execution_count": null,
   "metadata": {},
   "outputs": [],
   "source": [
    "text = str(\n",
    "    \"В        цьому реченні розриви рядків... Але це не так важливо! Зовсім? Так, зовсім! І це не повинно   заважати.\")\n"
   ]
  },
  {
   "cell_type": "code",
   "execution_count": null,
   "metadata": {},
   "outputs": [
    {
     "name": "stdout",
     "output_type": "stream",
     "text": [
      "В цьому реченні розриви рядків... \n",
      "Але це не так важливо! \n",
      "Зовсім? \n",
      "Так, зовсім! \n"
     ]
    }
   ],
   "source": [
    "result = re.sub(r'\\s{2,}', ' ', text)\n",
    "result1 = re.findall(r'[А-Я]+[а-яїі\\W*]+', result)\n",
    "for i in result1:\n",
    "    print(i)"
   ]
  },
  {
   "cell_type": "code",
   "execution_count": null,
   "metadata": {},
   "outputs": [],
   "source": []
  }
 ],
 "metadata": {
  "kernelspec": {
   "display_name": "Python 3",
   "language": "python",
   "name": "python3"
  },
  "language_info": {
   "codemirror_mode": {
    "name": "ipython",
    "version": 3
   },
   "file_extension": ".py",
   "mimetype": "text/x-python",
   "name": "python",
   "nbconvert_exporter": "python",
   "pygments_lexer": "ipython3",
   "version": "3.10.8"
  },
  "orig_nbformat": 4,
  "vscode": {
   "interpreter": {
    "hash": "a6511e6b41b26ba86cca7483749cf4dd15bf137a2672e550741a656e19bba82e"
   }
  }
 },
 "nbformat": 4,
 "nbformat_minor": 2
}
